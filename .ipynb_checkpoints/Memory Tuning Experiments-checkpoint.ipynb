{
 "cells": [
  {
   "cell_type": "markdown",
   "id": "4ed90c8e-6a6b-4ecb-8381-583fd709116e",
   "metadata": {},
   "source": [
    "# Imports"
   ]
  },
  {
   "cell_type": "code",
   "execution_count": 1,
   "id": "3b43faf7-f71c-4d2b-a465-8548e7072cd7",
   "metadata": {},
   "outputs": [],
   "source": [
    "import os\n",
    "import jsonlines\n",
    "from tqdm.notebook import tqdm\n",
    "\n",
    "import lamini\n",
    "import pandas as pd\n",
    "\n",
    "from contract_poc.utils import read_pdf, build_prompts_from_dataframe\n",
    "from contract_poc.qa_pipeline import QuestionAnswerPipeline, load_qa_prompts, save_answers\n",
    "from contract_poc.answer_pipeline import AnswerPipeline\n",
    "from contract_poc.gen_pipeline import GenPipeline, simple_prompt_generator, save_answers_to_csv"
   ]
  },
  {
   "cell_type": "markdown",
   "id": "272b84e0-debe-40c3-8148-a25594020191",
   "metadata": {},
   "source": [
    "# Data Wrangling"
   ]
  },
  {
   "cell_type": "code",
   "execution_count": 9,
   "id": "46e3e604-94ff-40d3-a56b-0b0b4e8f4321",
   "metadata": {},
   "outputs": [
    {
     "name": "stdout",
     "output_type": "stream",
     "text": [
      "Uber number of pages: 307\n"
     ]
    }
   ],
   "source": [
    "uber_text = read_pdf(\"data/uber_2021.pdf\")\n",
    "print(f\"Uber number of pages: {len(uber_text)}\")"
   ]
  },
  {
   "cell_type": "code",
   "execution_count": 10,
   "id": "152c9b5c-1d91-4b2c-9e38-cca23e670459",
   "metadata": {},
   "outputs": [
    {
     "name": "stdout",
     "output_type": "stream",
     "text": [
      "Lyft number of pages: 238\n"
     ]
    }
   ],
   "source": [
    "lyft_text = read_pdf(\"data/lyft_2021.pdf\")\n",
    "print(f\"Lyft number of pages: {len(lyft_text)}\")"
   ]
  },
  {
   "cell_type": "code",
   "execution_count": 2,
   "id": "6dc45431-d00c-4bb9-9242-18b417d385fc",
   "metadata": {},
   "outputs": [],
   "source": [
    "eval_data = []\n",
    "with jsonlines.Reader(open(os.path.join(\"eval_sets\",\"gold-test-set.jsonlines\"), \"rb\")) as reader:\n",
    "    for line in reader:\n",
    "        eval_data.append(line)"
   ]
  },
  {
   "cell_type": "code",
   "execution_count": 3,
   "id": "80e9e268-15a8-46ed-8552-095edb3b0a42",
   "metadata": {},
   "outputs": [
    {
     "data": {
      "text/plain": [
       "[{'question': 'What countries does Uber operate in?',\n",
       "  'answer': 'Our technology is available in approximately 72 countries around the world, principally in the United States (“U.S.”) and Canada, Latin America, Europe, the Middle East, Africa, and Asia (excluding China and Southeast Asia).'},\n",
       " {'question': 'What countries does Lyft operate in?',\n",
       "  'answer': 'United states and select cities in Canada'},\n",
       " {'question': 'Do Uber and Lyft operate in Mexico?',\n",
       "  'answer': 'Uber operates in Mexico including ride sharing and delivery services. Lyft only operates in the United States and select cities in Canada.'},\n",
       " {'question': \"Think step by step. First, consider the largest spanish speaking north american country that lyft operates in. Second describe any recent regulation that impacts Lyft's business in that market.\",\n",
       "  'answer': 'Lyft only operates in canada and the united states.'}]"
      ]
     },
     "execution_count": 3,
     "metadata": {},
     "output_type": "execute_result"
    }
   ],
   "source": [
    "eval_data[:4]"
   ]
  },
  {
   "cell_type": "code",
   "execution_count": 4,
   "id": "29f1ddf7-14f1-4386-9397-5ce62c1eb839",
   "metadata": {},
   "outputs": [
    {
     "data": {
      "text/html": [
       "<div>\n",
       "<style scoped>\n",
       "    .dataframe tbody tr th:only-of-type {\n",
       "        vertical-align: middle;\n",
       "    }\n",
       "\n",
       "    .dataframe tbody tr th {\n",
       "        vertical-align: top;\n",
       "    }\n",
       "\n",
       "    .dataframe thead th {\n",
       "        text-align: right;\n",
       "    }\n",
       "</style>\n",
       "<table border=\"1\" class=\"dataframe\">\n",
       "  <thead>\n",
       "    <tr style=\"text-align: right;\">\n",
       "      <th></th>\n",
       "      <th>question</th>\n",
       "      <th>answer</th>\n",
       "    </tr>\n",
       "  </thead>\n",
       "  <tbody>\n",
       "    <tr>\n",
       "      <th>0</th>\n",
       "      <td>What countries does Uber operate in?</td>\n",
       "      <td>Our technology is available in approximately 7...</td>\n",
       "    </tr>\n",
       "    <tr>\n",
       "      <th>1</th>\n",
       "      <td>What countries does Lyft operate in?</td>\n",
       "      <td>United states and select cities in Canada</td>\n",
       "    </tr>\n",
       "    <tr>\n",
       "      <th>2</th>\n",
       "      <td>Do Uber and Lyft operate in Mexico?</td>\n",
       "      <td>Uber operates in Mexico including ride sharing...</td>\n",
       "    </tr>\n",
       "    <tr>\n",
       "      <th>3</th>\n",
       "      <td>Think step by step. First, consider the larges...</td>\n",
       "      <td>Lyft only operates in canada and the united st...</td>\n",
       "    </tr>\n",
       "    <tr>\n",
       "      <th>4</th>\n",
       "      <td>Think step by step. First, consider the larges...</td>\n",
       "      <td>Uber operates in mexico. Since April 2019, Mex...</td>\n",
       "    </tr>\n",
       "  </tbody>\n",
       "</table>\n",
       "</div>"
      ],
      "text/plain": [
       "                                            question  \\\n",
       "0               What countries does Uber operate in?   \n",
       "1               What countries does Lyft operate in?   \n",
       "2                Do Uber and Lyft operate in Mexico?   \n",
       "3  Think step by step. First, consider the larges...   \n",
       "4  Think step by step. First, consider the larges...   \n",
       "\n",
       "                                              answer  \n",
       "0  Our technology is available in approximately 7...  \n",
       "1          United states and select cities in Canada  \n",
       "2  Uber operates in Mexico including ride sharing...  \n",
       "3  Lyft only operates in canada and the united st...  \n",
       "4  Uber operates in mexico. Since April 2019, Mex...  "
      ]
     },
     "execution_count": 4,
     "metadata": {},
     "output_type": "execute_result"
    }
   ],
   "source": [
    "eval_df = pd.DataFrame(eval_data)\n",
    "eval_df.head()"
   ]
  },
  {
   "cell_type": "markdown",
   "id": "750e5c52-ab1e-45ba-a968-61cb6c7956dd",
   "metadata": {},
   "source": [
    "# Eval Criteria\n",
    "\n",
    "* Accurate information - Facts can be sourced to a ground truth\n",
    "* Correct context - Extrapolation of the model is still in the context of the question\n",
    "* Just enough information - No run on thoughts, just answer the question\n",
    "\n",
    "Accurate\n",
    "* Response is factually accurate, doesn't extend the answer beyond the scope of the question\n",
    "\n",
    "Mixed\n",
    "* Response contains the correct information, but either the context extended beyond the question or additional facts are added that have nothing to do with the question\n",
    "\n",
    "Incorrect\n",
    "* Any fact is not accurate, response may not include corret context\n",
    "\n",
    "Successful Failure\n",
    "* Model recognizes that it does not know the answer"
   ]
  },
  {
   "cell_type": "markdown",
   "id": "8ed0cbd0-f0e8-4f1f-84d7-0664201d0e53",
   "metadata": {},
   "source": [
    "# Tuning Experiments"
   ]
  },
  {
   "cell_type": "markdown",
   "id": "2c4588be-94e3-4511-9ee2-aaa048360576",
   "metadata": {},
   "source": [
    "## Automatic QA Experiments"
   ]
  },
  {
   "cell_type": "markdown",
   "id": "8e31f38c-9977-4897-bda8-3bdabc7af3e9",
   "metadata": {},
   "source": [
    "### V1\n",
    "\n",
    "Job ID: 13265\n",
    "\n",
    "Model ID: d9341ae5cfc60d5ed9e173954387404b6419ee201aa2baacb79fe4a6cef532a1\n",
    "\n",
    "This is from an initial overfit run in the Contracts Data Discovery notebook, this was to overfit to a set of automatically extracted QA pairs"
   ]
  },
  {
   "cell_type": "code",
   "execution_count": 6,
   "id": "47a919f1-7167-4eff-84a3-a2ba7f39769c",
   "metadata": {},
   "outputs": [
    {
     "data": {
      "application/vnd.jupyter.widget-view+json": {
       "model_id": "b19d4308b08747c08e295c8c194e9d87",
       "version_major": 2,
       "version_minor": 0
      },
      "text/plain": [
       "Saving answers: 0 answers [00:00, ? answers/s]"
      ]
     },
     "metadata": {},
     "output_type": "display_data"
    }
   ],
   "source": [
    "generation_pipeline = GenPipeline(model_name = \"d9341ae5cfc60d5ed9e173954387404b6419ee201aa2baacb79fe4a6cef532a1\")\n",
    "answers = generation_pipeline.call(simple_prompt_generator(eval_df))\n",
    "model_responses = await save_answers_to_csv(answers, path=\"responses/gold_test_responses_13265.csv\", print_outputs=False)"
   ]
  },
  {
   "cell_type": "markdown",
   "id": "b91f04bc-4826-4a09-9793-77d29ce3a3be",
   "metadata": {},
   "source": [
    "### Eval\n",
    "\n",
    "Correct: 5 (0.25)\n",
    "\n",
    "Mixed: 7 (0.35)\n",
    "\n",
    "Incorrect: 6 (0.3)\n",
    "\n",
    "Successfull Failure: 2 (0.1)"
   ]
  },
  {
   "cell_type": "markdown",
   "id": "8f1e0bfc-1fa8-48fd-bcaf-a5213bff1f62",
   "metadata": {},
   "source": [
    "### V2"
   ]
  },
  {
   "cell_type": "code",
   "execution_count": null,
   "id": "c254c403-0d9c-4db5-8920-a45354de8a9f",
   "metadata": {},
   "outputs": [],
   "source": [
    "qa_pipeline = QuestionAnswerPipeline(\n",
    "    question_system_prompt = \"Ask three separate questions around a fact, table, or number within this text: \"\n",
    ")"
   ]
  }
 ],
 "metadata": {
  "kernelspec": {
   "display_name": "Python 3 (ipykernel)",
   "language": "python",
   "name": "python3"
  },
  "language_info": {
   "codemirror_mode": {
    "name": "ipython",
    "version": 3
   },
   "file_extension": ".py",
   "mimetype": "text/x-python",
   "name": "python",
   "nbconvert_exporter": "python",
   "pygments_lexer": "ipython3",
   "version": "3.12.6"
  }
 },
 "nbformat": 4,
 "nbformat_minor": 5
}
