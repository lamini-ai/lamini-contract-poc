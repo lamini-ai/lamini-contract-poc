{
 "cells": [
  {
   "cell_type": "markdown",
   "id": "4ed90c8e-6a6b-4ecb-8381-583fd709116e",
   "metadata": {},
   "source": [
    "# Imports"
   ]
  },
  {
   "cell_type": "code",
   "execution_count": 40,
   "id": "3b43faf7-f71c-4d2b-a465-8548e7072cd7",
   "metadata": {},
   "outputs": [],
   "source": [
    "import os\n",
    "import jsonlines\n",
    "from tqdm.notebook import tqdm\n",
    "\n",
    "import lamini\n",
    "import pandas as pd\n",
    "\n",
    "from contract_poc.utils import read_pdf, build_prompts_from_dataframe\n",
    "from contract_poc.qa_pipeline import QuestionAnswerPipeline, load_qa_prompts, save_answers\n",
    "from contract_poc.answer_pipeline import AnswerPipeline"
   ]
  },
  {
   "cell_type": "markdown",
   "id": "272b84e0-debe-40c3-8148-a25594020191",
   "metadata": {},
   "source": [
    "# Data Wrangling"
   ]
  },
  {
   "cell_type": "code",
   "execution_count": 19,
   "id": "6dc45431-d00c-4bb9-9242-18b417d385fc",
   "metadata": {},
   "outputs": [],
   "source": [
    "eval_data = []\n",
    "with jsonlines.Reader(open(os.path.join(\"eval_sets\",\"gold-test-set.jsonlines\"), \"rb\")) as reader:\n",
    "    for line in reader:\n",
    "        eval_data.append(line)"
   ]
  },
  {
   "cell_type": "code",
   "execution_count": 21,
   "id": "80e9e268-15a8-46ed-8552-095edb3b0a42",
   "metadata": {},
   "outputs": [
    {
     "data": {
      "text/plain": [
       "[{'question': 'What countries does Uber operate in?',\n",
       "  'answer': 'Our technology is available in approximately 72 countries around the world, principally in the United States (“U.S.”) and Canada, Latin America, Europe, the Middle East, Africa, and Asia (excluding China and Southeast Asia).'},\n",
       " {'question': 'What countries does Lyft operate in?',\n",
       "  'answer': 'United states and select cities in Canada'},\n",
       " {'question': 'Do Uber and Lyft operate in Mexico?',\n",
       "  'answer': 'Uber operates in Mexico including ride sharing and delivery services. Lyft only operates in the United States and select cities in Canada.'},\n",
       " {'question': \"Think step by step. First, consider the largest spanish speaking north american country that lyft operates in. Second describe any recent regulation that impacts Lyft's business in that market.\",\n",
       "  'answer': 'Lyft only operates in canada and the united states.'}]"
      ]
     },
     "execution_count": 21,
     "metadata": {},
     "output_type": "execute_result"
    }
   ],
   "source": [
    "eval_data[:4]"
   ]
  },
  {
   "cell_type": "code",
   "execution_count": 27,
   "id": "29f1ddf7-14f1-4386-9397-5ce62c1eb839",
   "metadata": {},
   "outputs": [
    {
     "data": {
      "text/html": [
       "<div>\n",
       "<style scoped>\n",
       "    .dataframe tbody tr th:only-of-type {\n",
       "        vertical-align: middle;\n",
       "    }\n",
       "\n",
       "    .dataframe tbody tr th {\n",
       "        vertical-align: top;\n",
       "    }\n",
       "\n",
       "    .dataframe thead th {\n",
       "        text-align: right;\n",
       "    }\n",
       "</style>\n",
       "<table border=\"1\" class=\"dataframe\">\n",
       "  <thead>\n",
       "    <tr style=\"text-align: right;\">\n",
       "      <th></th>\n",
       "      <th>question</th>\n",
       "      <th>answer</th>\n",
       "    </tr>\n",
       "  </thead>\n",
       "  <tbody>\n",
       "    <tr>\n",
       "      <th>0</th>\n",
       "      <td>What countries does Uber operate in?</td>\n",
       "      <td>Our technology is available in approximately 7...</td>\n",
       "    </tr>\n",
       "    <tr>\n",
       "      <th>1</th>\n",
       "      <td>What countries does Lyft operate in?</td>\n",
       "      <td>United states and select cities in Canada</td>\n",
       "    </tr>\n",
       "    <tr>\n",
       "      <th>2</th>\n",
       "      <td>Do Uber and Lyft operate in Mexico?</td>\n",
       "      <td>Uber operates in Mexico including ride sharing...</td>\n",
       "    </tr>\n",
       "    <tr>\n",
       "      <th>3</th>\n",
       "      <td>Think step by step. First, consider the larges...</td>\n",
       "      <td>Lyft only operates in canada and the united st...</td>\n",
       "    </tr>\n",
       "    <tr>\n",
       "      <th>4</th>\n",
       "      <td>Think step by step. First, consider the larges...</td>\n",
       "      <td>Uber operates in mexico. Since April 2019, Mex...</td>\n",
       "    </tr>\n",
       "  </tbody>\n",
       "</table>\n",
       "</div>"
      ],
      "text/plain": [
       "                                            question  \\\n",
       "0               What countries does Uber operate in?   \n",
       "1               What countries does Lyft operate in?   \n",
       "2                Do Uber and Lyft operate in Mexico?   \n",
       "3  Think step by step. First, consider the larges...   \n",
       "4  Think step by step. First, consider the larges...   \n",
       "\n",
       "                                              answer  \n",
       "0  Our technology is available in approximately 7...  \n",
       "1          United states and select cities in Canada  \n",
       "2  Uber operates in Mexico including ride sharing...  \n",
       "3  Lyft only operates in canada and the united st...  \n",
       "4  Uber operates in mexico. Since April 2019, Mex...  "
      ]
     },
     "execution_count": 27,
     "metadata": {},
     "output_type": "execute_result"
    }
   ],
   "source": [
    "eval_df = pd.DataFrame(eval_data)\n",
    "eval_df.head()"
   ]
  },
  {
   "cell_type": "markdown",
   "id": "0234cf65-25cf-485d-8c42-1b84ad5724f9",
   "metadata": {},
   "source": [
    "# Helper Functions"
   ]
  },
  {
   "cell_type": "code",
   "execution_count": 23,
   "id": "496ceff5-8276-4bd0-a7f8-e4a4f67cad2d",
   "metadata": {},
   "outputs": [],
   "source": [
    "from lamini.generation.generation_node import GenerationNode\n",
    "from lamini.generation.base_prompt_object import PromptObject\n",
    "from lamini.generation.generation_pipeline import GenerationPipeline\n",
    "\n",
    "class GenPipeline(GenerationPipeline):\n",
    "    def __init__(self, model_name):\n",
    "        super(GenPipeline, self).__init__()\n",
    "\n",
    "        self.generation_node = GenerationNode(model_name=model_name)\n",
    "\n",
    "    def forward(self, x):\n",
    "        x = self.generation_node(x, output_type={\"answer\":\"str\"})\n",
    "        return x"
   ]
  },
  {
   "cell_type": "code",
   "execution_count": 32,
   "id": "3296f1c3-55ba-45a3-9304-baa5a9801e21",
   "metadata": {},
   "outputs": [],
   "source": [
    "def simple_prompt_generator(\n",
    "    df: pd.DataFrame, \n",
    "    input_col: str = \"question\", \n",
    "    output_col: str = \"answer\",\n",
    "):\n",
    "    for idx, row in df.iterrows():\n",
    "        yield PromptObject(\n",
    "            prompt = row[input_col],\n",
    "            data = {\n",
    "                \"question\": row[input_col],\n",
    "                \"expected_output\": row[output_col],\n",
    "            }\n",
    "        )"
   ]
  },
  {
   "cell_type": "code",
   "execution_count": 34,
   "id": "deda275f-3766-4d4a-936a-5192dcad282e",
   "metadata": {},
   "outputs": [
    {
     "data": {
      "text/html": [
       "<div>\n",
       "<style scoped>\n",
       "    .dataframe tbody tr th:only-of-type {\n",
       "        vertical-align: middle;\n",
       "    }\n",
       "\n",
       "    .dataframe tbody tr th {\n",
       "        vertical-align: top;\n",
       "    }\n",
       "\n",
       "    .dataframe thead th {\n",
       "        text-align: right;\n",
       "    }\n",
       "</style>\n",
       "<table border=\"1\" class=\"dataframe\">\n",
       "  <thead>\n",
       "    <tr style=\"text-align: right;\">\n",
       "      <th></th>\n",
       "      <th>question</th>\n",
       "      <th>answer</th>\n",
       "    </tr>\n",
       "  </thead>\n",
       "  <tbody>\n",
       "    <tr>\n",
       "      <th>0</th>\n",
       "      <td>What countries does Uber operate in?</td>\n",
       "      <td>Our technology is available in approximately 7...</td>\n",
       "    </tr>\n",
       "    <tr>\n",
       "      <th>1</th>\n",
       "      <td>What countries does Lyft operate in?</td>\n",
       "      <td>United states and select cities in Canada</td>\n",
       "    </tr>\n",
       "    <tr>\n",
       "      <th>2</th>\n",
       "      <td>Do Uber and Lyft operate in Mexico?</td>\n",
       "      <td>Uber operates in Mexico including ride sharing...</td>\n",
       "    </tr>\n",
       "    <tr>\n",
       "      <th>3</th>\n",
       "      <td>Think step by step. First, consider the larges...</td>\n",
       "      <td>Lyft only operates in canada and the united st...</td>\n",
       "    </tr>\n",
       "    <tr>\n",
       "      <th>4</th>\n",
       "      <td>Think step by step. First, consider the larges...</td>\n",
       "      <td>Uber operates in mexico. Since April 2019, Mex...</td>\n",
       "    </tr>\n",
       "    <tr>\n",
       "      <th>5</th>\n",
       "      <td>In Q4 2021, how many advertisers did Uber have?</td>\n",
       "      <td>During the fourth quarter of 2021, active adve...</td>\n",
       "    </tr>\n",
       "    <tr>\n",
       "      <th>6</th>\n",
       "      <td>What role does word of mouth play in Lyft go t...</td>\n",
       "      <td>Lyft benefits from positive word of mouth in t...</td>\n",
       "    </tr>\n",
       "    <tr>\n",
       "      <th>7</th>\n",
       "      <td>What is the biggest macro trend that has impac...</td>\n",
       "      <td>The covid 19 pandemic resulted in substantiall...</td>\n",
       "    </tr>\n",
       "    <tr>\n",
       "      <th>8</th>\n",
       "      <td>How has Uber and Lyft's reputation impacted th...</td>\n",
       "      <td>Uber has previously received significant media...</td>\n",
       "    </tr>\n",
       "    <tr>\n",
       "      <th>9</th>\n",
       "      <td>Think step by step. First consider the adverti...</td>\n",
       "      <td>Uber has over 170,000 advertising merchants. L...</td>\n",
       "    </tr>\n",
       "    <tr>\n",
       "      <th>10</th>\n",
       "      <td>How much money is Lyft required to spend on AW...</td>\n",
       "      <td>Under this agreement, Lyft committed to spend ...</td>\n",
       "    </tr>\n",
       "    <tr>\n",
       "      <th>11</th>\n",
       "      <td>How much cloud spend is Uber expected to have ...</td>\n",
       "      <td>As of December 31, 2021, we had $394 million i...</td>\n",
       "    </tr>\n",
       "    <tr>\n",
       "      <th>12</th>\n",
       "      <td>Compare and contrast the cloud compute strateg...</td>\n",
       "      <td>Lyft focuses on AWS while Uber uses a mix of d...</td>\n",
       "    </tr>\n",
       "    <tr>\n",
       "      <th>13</th>\n",
       "      <td>Think step by step. It is 2021. First consider...</td>\n",
       "      <td>In 2021, Lyft has a minimum AWS spend of $80 m...</td>\n",
       "    </tr>\n",
       "    <tr>\n",
       "      <th>14</th>\n",
       "      <td>What acquisitions has Uber completed in 2021 t...</td>\n",
       "      <td>During 2021, Uber completed the acquisition of...</td>\n",
       "    </tr>\n",
       "    <tr>\n",
       "      <th>15</th>\n",
       "      <td>What acquisitions has Lyft completed by 2021?</td>\n",
       "      <td>In November 2018, Lyft acquired Bikeshare Hold...</td>\n",
       "    </tr>\n",
       "    <tr>\n",
       "      <th>16</th>\n",
       "      <td>Think step by step. Does Uber operate in south...</td>\n",
       "      <td>Yes, uber operates in south america. It recent...</td>\n",
       "    </tr>\n",
       "    <tr>\n",
       "      <th>17</th>\n",
       "      <td>What subscription programs does lyft offer?</td>\n",
       "      <td>The Lyft Pink subscription plan.</td>\n",
       "    </tr>\n",
       "    <tr>\n",
       "      <th>18</th>\n",
       "      <td>What subscription programs does uber offer?</td>\n",
       "      <td>During November 2021, we launched Uber One in ...</td>\n",
       "    </tr>\n",
       "    <tr>\n",
       "      <th>19</th>\n",
       "      <td>Think step by step. First consider the main Ly...</td>\n",
       "      <td>The lyft subscription is called Lyft Pink. It ...</td>\n",
       "    </tr>\n",
       "  </tbody>\n",
       "</table>\n",
       "</div>"
      ],
      "text/plain": [
       "                                             question  \\\n",
       "0                What countries does Uber operate in?   \n",
       "1                What countries does Lyft operate in?   \n",
       "2                 Do Uber and Lyft operate in Mexico?   \n",
       "3   Think step by step. First, consider the larges...   \n",
       "4   Think step by step. First, consider the larges...   \n",
       "5     In Q4 2021, how many advertisers did Uber have?   \n",
       "6   What role does word of mouth play in Lyft go t...   \n",
       "7   What is the biggest macro trend that has impac...   \n",
       "8   How has Uber and Lyft's reputation impacted th...   \n",
       "9   Think step by step. First consider the adverti...   \n",
       "10  How much money is Lyft required to spend on AW...   \n",
       "11  How much cloud spend is Uber expected to have ...   \n",
       "12  Compare and contrast the cloud compute strateg...   \n",
       "13  Think step by step. It is 2021. First consider...   \n",
       "14  What acquisitions has Uber completed in 2021 t...   \n",
       "15      What acquisitions has Lyft completed by 2021?   \n",
       "16  Think step by step. Does Uber operate in south...   \n",
       "17        What subscription programs does lyft offer?   \n",
       "18        What subscription programs does uber offer?   \n",
       "19  Think step by step. First consider the main Ly...   \n",
       "\n",
       "                                               answer  \n",
       "0   Our technology is available in approximately 7...  \n",
       "1           United states and select cities in Canada  \n",
       "2   Uber operates in Mexico including ride sharing...  \n",
       "3   Lyft only operates in canada and the united st...  \n",
       "4   Uber operates in mexico. Since April 2019, Mex...  \n",
       "5   During the fourth quarter of 2021, active adve...  \n",
       "6   Lyft benefits from positive word of mouth in t...  \n",
       "7   The covid 19 pandemic resulted in substantiall...  \n",
       "8   Uber has previously received significant media...  \n",
       "9   Uber has over 170,000 advertising merchants. L...  \n",
       "10  Under this agreement, Lyft committed to spend ...  \n",
       "11  As of December 31, 2021, we had $394 million i...  \n",
       "12  Lyft focuses on AWS while Uber uses a mix of d...  \n",
       "13  In 2021, Lyft has a minimum AWS spend of $80 m...  \n",
       "14  During 2021, Uber completed the acquisition of...  \n",
       "15  In November 2018, Lyft acquired Bikeshare Hold...  \n",
       "16  Yes, uber operates in south america. It recent...  \n",
       "17                   The Lyft Pink subscription plan.  \n",
       "18  During November 2021, we launched Uber One in ...  \n",
       "19  The lyft subscription is called Lyft Pink. It ...  "
      ]
     },
     "execution_count": 34,
     "metadata": {},
     "output_type": "execute_result"
    }
   ],
   "source": [
    "eval_df"
   ]
  },
  {
   "cell_type": "code",
   "execution_count": 54,
   "id": "2d759506-e48a-4b2f-b40d-f2559be8498b",
   "metadata": {},
   "outputs": [],
   "source": [
    "def extract_json_save_csv(path: str, eval_df: pd.DataFrame):\n",
    "    items = []\n",
    "    with jsonlines.open(path, \"r\") as reader:\n",
    "        for item in reader:\n",
    "            print(item)\n",
    "            answer = {\n",
    "                \"Question\": item[\"question\"],\n",
    "                \"Model Response\": item[\"answer\"],\n",
    "                \"Gold Response\": eval_df[eval_df[\"question\"].str.contains(item[\"question\"])][\"answer\"].iloc[0]\n",
    "            }\n",
    "            items.append(answer)\n",
    "    return items"
   ]
  },
  {
   "cell_type": "code",
   "execution_count": 56,
   "id": "499b3bf1-04dd-4b1e-b429-657621c5126c",
   "metadata": {},
   "outputs": [],
   "source": [
    "text = \"Think step by step. First consider the advertising marketplace on Uber. How big is it? Second, consider the word of mouth marketing campaign carried out by Lyft. What challenges has it faced? Finally, compare and contrast the different approaches, considering the relative strengths and weaknesses of each approach.\""
   ]
  },
  {
   "cell_type": "code",
   "execution_count": 58,
   "id": "c9eabeb5-0acc-47bf-b068-e26e7e704a97",
   "metadata": {},
   "outputs": [
    {
     "data": {
      "text/html": [
       "<div>\n",
       "<style scoped>\n",
       "    .dataframe tbody tr th:only-of-type {\n",
       "        vertical-align: middle;\n",
       "    }\n",
       "\n",
       "    .dataframe tbody tr th {\n",
       "        vertical-align: top;\n",
       "    }\n",
       "\n",
       "    .dataframe thead th {\n",
       "        text-align: right;\n",
       "    }\n",
       "</style>\n",
       "<table border=\"1\" class=\"dataframe\">\n",
       "  <thead>\n",
       "    <tr style=\"text-align: right;\">\n",
       "      <th></th>\n",
       "      <th>question</th>\n",
       "      <th>answer</th>\n",
       "    </tr>\n",
       "  </thead>\n",
       "  <tbody>\n",
       "    <tr>\n",
       "      <th>0</th>\n",
       "      <td>What countries does Uber operate in?</td>\n",
       "      <td>Our technology is available in approximately 7...</td>\n",
       "    </tr>\n",
       "    <tr>\n",
       "      <th>1</th>\n",
       "      <td>What countries does Lyft operate in?</td>\n",
       "      <td>United states and select cities in Canada</td>\n",
       "    </tr>\n",
       "    <tr>\n",
       "      <th>2</th>\n",
       "      <td>Do Uber and Lyft operate in Mexico?</td>\n",
       "      <td>Uber operates in Mexico including ride sharing...</td>\n",
       "    </tr>\n",
       "    <tr>\n",
       "      <th>3</th>\n",
       "      <td>Think step by step. First, consider the larges...</td>\n",
       "      <td>Lyft only operates in canada and the united st...</td>\n",
       "    </tr>\n",
       "    <tr>\n",
       "      <th>4</th>\n",
       "      <td>Think step by step. First, consider the larges...</td>\n",
       "      <td>Uber operates in mexico. Since April 2019, Mex...</td>\n",
       "    </tr>\n",
       "    <tr>\n",
       "      <th>5</th>\n",
       "      <td>In Q4 2021, how many advertisers did Uber have?</td>\n",
       "      <td>During the fourth quarter of 2021, active adve...</td>\n",
       "    </tr>\n",
       "    <tr>\n",
       "      <th>6</th>\n",
       "      <td>What role does word of mouth play in Lyft go t...</td>\n",
       "      <td>Lyft benefits from positive word of mouth in t...</td>\n",
       "    </tr>\n",
       "    <tr>\n",
       "      <th>7</th>\n",
       "      <td>What is the biggest macro trend that has impac...</td>\n",
       "      <td>The covid 19 pandemic resulted in substantiall...</td>\n",
       "    </tr>\n",
       "    <tr>\n",
       "      <th>8</th>\n",
       "      <td>How has Uber and Lyft's reputation impacted th...</td>\n",
       "      <td>Uber has previously received significant media...</td>\n",
       "    </tr>\n",
       "    <tr>\n",
       "      <th>9</th>\n",
       "      <td>Think step by step. First consider the adverti...</td>\n",
       "      <td>Uber has over 170,000 advertising merchants. L...</td>\n",
       "    </tr>\n",
       "    <tr>\n",
       "      <th>10</th>\n",
       "      <td>How much money is Lyft required to spend on AW...</td>\n",
       "      <td>Under this agreement, Lyft committed to spend ...</td>\n",
       "    </tr>\n",
       "    <tr>\n",
       "      <th>11</th>\n",
       "      <td>How much cloud spend is Uber expected to have ...</td>\n",
       "      <td>As of December 31, 2021, we had $394 million i...</td>\n",
       "    </tr>\n",
       "    <tr>\n",
       "      <th>12</th>\n",
       "      <td>Compare and contrast the cloud compute strateg...</td>\n",
       "      <td>Lyft focuses on AWS while Uber uses a mix of d...</td>\n",
       "    </tr>\n",
       "    <tr>\n",
       "      <th>13</th>\n",
       "      <td>Think step by step. It is 2021. First consider...</td>\n",
       "      <td>In 2021, Lyft has a minimum AWS spend of $80 m...</td>\n",
       "    </tr>\n",
       "    <tr>\n",
       "      <th>14</th>\n",
       "      <td>What acquisitions has Uber completed in 2021 t...</td>\n",
       "      <td>During 2021, Uber completed the acquisition of...</td>\n",
       "    </tr>\n",
       "    <tr>\n",
       "      <th>15</th>\n",
       "      <td>What acquisitions has Lyft completed by 2021?</td>\n",
       "      <td>In November 2018, Lyft acquired Bikeshare Hold...</td>\n",
       "    </tr>\n",
       "    <tr>\n",
       "      <th>16</th>\n",
       "      <td>Think step by step. Does Uber operate in south...</td>\n",
       "      <td>Yes, uber operates in south america. It recent...</td>\n",
       "    </tr>\n",
       "    <tr>\n",
       "      <th>17</th>\n",
       "      <td>What subscription programs does lyft offer?</td>\n",
       "      <td>The Lyft Pink subscription plan.</td>\n",
       "    </tr>\n",
       "    <tr>\n",
       "      <th>18</th>\n",
       "      <td>What subscription programs does uber offer?</td>\n",
       "      <td>During November 2021, we launched Uber One in ...</td>\n",
       "    </tr>\n",
       "    <tr>\n",
       "      <th>19</th>\n",
       "      <td>Think step by step. First consider the main Ly...</td>\n",
       "      <td>The lyft subscription is called Lyft Pink. It ...</td>\n",
       "    </tr>\n",
       "  </tbody>\n",
       "</table>\n",
       "</div>"
      ],
      "text/plain": [
       "                                             question  \\\n",
       "0                What countries does Uber operate in?   \n",
       "1                What countries does Lyft operate in?   \n",
       "2                 Do Uber and Lyft operate in Mexico?   \n",
       "3   Think step by step. First, consider the larges...   \n",
       "4   Think step by step. First, consider the larges...   \n",
       "5     In Q4 2021, how many advertisers did Uber have?   \n",
       "6   What role does word of mouth play in Lyft go t...   \n",
       "7   What is the biggest macro trend that has impac...   \n",
       "8   How has Uber and Lyft's reputation impacted th...   \n",
       "9   Think step by step. First consider the adverti...   \n",
       "10  How much money is Lyft required to spend on AW...   \n",
       "11  How much cloud spend is Uber expected to have ...   \n",
       "12  Compare and contrast the cloud compute strateg...   \n",
       "13  Think step by step. It is 2021. First consider...   \n",
       "14  What acquisitions has Uber completed in 2021 t...   \n",
       "15      What acquisitions has Lyft completed by 2021?   \n",
       "16  Think step by step. Does Uber operate in south...   \n",
       "17        What subscription programs does lyft offer?   \n",
       "18        What subscription programs does uber offer?   \n",
       "19  Think step by step. First consider the main Ly...   \n",
       "\n",
       "                                               answer  \n",
       "0   Our technology is available in approximately 7...  \n",
       "1           United states and select cities in Canada  \n",
       "2   Uber operates in Mexico including ride sharing...  \n",
       "3   Lyft only operates in canada and the united st...  \n",
       "4   Uber operates in mexico. Since April 2019, Mex...  \n",
       "5   During the fourth quarter of 2021, active adve...  \n",
       "6   Lyft benefits from positive word of mouth in t...  \n",
       "7   The covid 19 pandemic resulted in substantiall...  \n",
       "8   Uber has previously received significant media...  \n",
       "9   Uber has over 170,000 advertising merchants. L...  \n",
       "10  Under this agreement, Lyft committed to spend ...  \n",
       "11  As of December 31, 2021, we had $394 million i...  \n",
       "12  Lyft focuses on AWS while Uber uses a mix of d...  \n",
       "13  In 2021, Lyft has a minimum AWS spend of $80 m...  \n",
       "14  During 2021, Uber completed the acquisition of...  \n",
       "15  In November 2018, Lyft acquired Bikeshare Hold...  \n",
       "16  Yes, uber operates in south america. It recent...  \n",
       "17                   The Lyft Pink subscription plan.  \n",
       "18  During November 2021, we launched Uber One in ...  \n",
       "19  The lyft subscription is called Lyft Pink. It ...  "
      ]
     },
     "execution_count": 58,
     "metadata": {},
     "output_type": "execute_result"
    }
   ],
   "source": [
    "eval_df"
   ]
  },
  {
   "cell_type": "code",
   "execution_count": 57,
   "id": "72ea96e9-d211-49fe-b51a-eb0bfbb62a90",
   "metadata": {},
   "outputs": [
    {
     "data": {
      "text/html": [
       "<div>\n",
       "<style scoped>\n",
       "    .dataframe tbody tr th:only-of-type {\n",
       "        vertical-align: middle;\n",
       "    }\n",
       "\n",
       "    .dataframe tbody tr th {\n",
       "        vertical-align: top;\n",
       "    }\n",
       "\n",
       "    .dataframe thead th {\n",
       "        text-align: right;\n",
       "    }\n",
       "</style>\n",
       "<table border=\"1\" class=\"dataframe\">\n",
       "  <thead>\n",
       "    <tr style=\"text-align: right;\">\n",
       "      <th></th>\n",
       "      <th>question</th>\n",
       "      <th>answer</th>\n",
       "    </tr>\n",
       "  </thead>\n",
       "  <tbody>\n",
       "  </tbody>\n",
       "</table>\n",
       "</div>"
      ],
      "text/plain": [
       "Empty DataFrame\n",
       "Columns: [question, answer]\n",
       "Index: []"
      ]
     },
     "execution_count": 57,
     "metadata": {},
     "output_type": "execute_result"
    }
   ],
   "source": [
    "eval_df[eval_df[\"question\"].str.contains(text)]"
   ]
  },
  {
   "cell_type": "code",
   "execution_count": 55,
   "id": "4fd3256b-8fe3-41a1-a734-212d79f9e0a1",
   "metadata": {
    "scrolled": true
   },
   "outputs": [
    {
     "name": "stdout",
     "output_type": "stream",
     "text": [
      "{'prompt': 'What countries does Uber operate in?', 'question': 'What countries does Uber operate in?', 'answer': \"Our technology is available in approximately 72 countries around the world, principally in the United States ('U.S.') and Canada, and in Europe, the Middle East, Africa, and Asia (excluding China and Southeast Asia).\"}\n",
      "{'prompt': 'What countries does Lyft operate in?', 'question': 'What countries does Lyft operate in?', 'answer': 'Our technology is available in approximately 72 countries around the world, principally in the United States and Canada. We offer rides in a variety of markets under different brand names, including Lyft in the United States and Canada and Lyft Rentals in California and Florida. Our platform connects drivers with riders in many cities to provide convenient transportation around a city or long-distance trips across countries. Our network spans the United States, Canada, Australia, Africa, Asia (excluding China), Europe, the Middle East, Latin America, and New Zealand'}\n",
      "{'prompt': 'Do Uber and Lyft operate in Mexico?', 'question': 'Do Uber and Lyft operate in Mexico?', 'answer': 'Yes, Uber and Lyft operate in Mexico. Uber was first available in Mexico in November 2014 and Lyft was not. As of 2021, Uber operates in over 50 cities across Mexico while Lyft does not operate in Mexico. Both companies have a significant presence in major cities such as Mexico City, Guadalajara, Monterrey, and Puebla. However, the ridesharing market in Mexico is highly fragmented, and both Uber and Lyft compete with local players such as Rappi, Woven Planet Mobility, and Olio. The ridesharing market in Mexico is estimated to be around $7.5 billion and is expected to continue growing due to increasing demand for mobility services amid the COVID-19 pandemic'}\n",
      "{'prompt': \"Think step by step. First, consider the largest spanish speaking north american country that lyft operates in. Second describe any recent regulation that impacts Lyft's business in that market.\", 'question': \"Think step by step. First, consider the largest spanish speaking north american country that lyft operates in. Second describe any recent regulation that impacts Lyft's business in that market.\", 'answer': 'Mexico'}\n",
      "{'prompt': \"Think step by step. First, consider the largest spanish speaking north american market that uber operates in. Second describe any recent regulation that impacts Uber's business in that market.\", 'question': \"Think step by step. First, consider the largest spanish speaking north american market that uber operates in. Second describe any recent regulation that impacts Uber's business in that market.\", 'answer': \"Uber's largest spanish speaking north american market is mexico. In 2021, the mexican government passed a law that requires Uber and other ride-hailing companies to hire drivers as employees rather than independent contractors. This change in the law was effective as of february 2021 and impacts Uber's business in mexico\"}\n",
      "{'prompt': 'In Q4 2021, how many advertisers did Uber have?', 'question': 'In Q4 2021, how many advertisers did Uber have?', 'answer': 'We had 874 advertisers in the quarter ended December 31, 2021'}\n",
      "{'prompt': 'What role does word of mouth play in Lyft go to market?', 'question': 'What role does word of mouth play in Lyft go to market?', 'answer': \"Our reputation is built on the best experiences our drivers and riders have with us. We see word of mouth and customer referrals as critical to our growth. We've incorporated features into our platform to incentivize both drivers and riders to share their experiences with us on review sites like Google, Apple Reviews and our own Lyft Website. We also offer incentives for drivers who get new riders for the first time and for riders who refer friends for the first time. We believe our reputation is one of our most valuable assets and we will continue to invest in our reputation management program to ensure it remains strong\"}\n",
      "{'prompt': \"What is the biggest macro trend that has impacted Lyft's business in 2021.\", 'question': \"What is the biggest macro trend that has impacted Lyft's business in 2021.\", 'answer': \"The COVID-19 pandemic has been a key macro trend that has impacted Lyft's business in 2021. The pandemic has accelerated the shift to mobile first and digital everything. It has also placed a significant premium on the safety of our users, suppliers, and employees, driving demand for our services and creating new opportunities for growth. Additionally, the pandemic has highlighted the resilience and adaptability of our business model, allowing us to respond to changing consumer behaviors and market conditions by investing in our marketplace technology, our consumer products, and our customer service. We have also seen the pandemic accelerate the growth of our enterprise ridesharing business, as more companies turn to us to address the transportation needs of their employees in a safe and flexible way. Overall, the COVID-19 pandemic has presented both challenges and opportunities for Lyft, and we have been working to navigate the pandemic and position our company for long-term success\"}\n",
      "{'prompt': \"How has Uber and Lyft's reputation impacted their respective businesses?\", 'question': \"How has Uber and Lyft's reputation impacted their respective businesses?\", 'answer': \"Riding with Uber and Lyft is significantly safer than riding with traditional taxis. Our technology requires drivers to undergo a rigorous screening process, including background checks, in-person interviews, and vehicle inspections. We also have a robust reporting system in place that allows both riders and drivers to report incidents or concerns. As a result, we have an excellent track record of safety, with a significant decrease in incidents and a continuous decrease in our consumer risk preference score since 2014.\\nOur commitment to safety is reflected in our latest Uncharted Partner Marketplace Whitepaper, which provides a comprehensive overview of our safety features and initiatives. We believe that a safe transportation network benefits not only our riders but also our drivers, and we continue to work to foster a safe and sustainable ridesharing marketplace for all.\\nWhen we first publically discussed our concerns about Lyft's safety record in December 2018, we noted that while we loved the service provider network that Lyft had assembled, we had significant concerns about the company's ability to deliver a safe experience for its riders. Since then, Lyft has taken steps to address many of the concerns we raised. For example, Lyft has expanded its education programs for drivers to provide them with incentives to drive safely and has increased the density of its network of rental cars. Lyft has also made available a number of features to enable riders to select ridesharing services that have the lowest possible risk, such as the option to in-app select ridesharing services that use vehicles with advanced safety features. Furthermore, Lyft has continued to invest in the developer of our Driver Heartbeat program, Motional, a leading autonomous driving technology company, to accelerate the offering of autonomous ridesharing services. While we continue to have concerns about Lyft's safety record, we believe that the company has made significant progress in addressing many of the concerns we had when we first publically discussed them\"}\n",
      "{'prompt': 'Think step by step. First consider the advertising marketplace on Uber. How big is it? Second, consider the word of mouth marketing campaign carried out by Lyft. What challenges has it faced? Finally, compare and contrast the different approaches, considering the relative strengths and weaknesses of each approach.', 'question': 'Think step by step. First consider the advertising marketplace on Uber. How big is it? Second, consider the word of mouth marketing campaign carried out by Lyft. What challenges has it faced? Finally, compare and contrast the different approaches, considering the relative strengths and weaknesses of each approach.', 'answer': \"The ridesharing marketplaces Uber and Lyft have developed different strategies to attract and retain customers. The advertising marketplace on Uber is a multi-billion dollar business. Uber's Open Platform allows third-party developers to create and deploy ads across the Uber network, providing access to a massive and targeted audience. This has enabled the creation of a robust and dynamic advertising ecosystem. In contrast, Lyft's word of mouth marketing campaign, known as the Lyft Driver Program, has faced challenges in scaling. The program incentivizes drivers to refer their friends to Lyft and offers incentives for successful referrals. While this program has been successful in attracting new drivers to the platform, it has been more difficult to scale the program to reach a wider audience. Lyft's approach is more focused on the driver base and the network effects that come with it, whereas Uber's Open Platform is more focused on the consumer base and the wide range of third-party services available on the platform. Lyft's approach is more targeted and focused on the driver experience, while Uber's Open Platform is more broad and inclusive. Lyft's word of mouth marketing campaign has been successful in attracting new drivers to the platform, but it may not be as effective in attracting new consumers. Uber's advertising marketplace, on the other hand, is a more established and mature market, with a wide range of third-party developers creating and deploying ads across the platform. This has enabled Uber to build a robust and dynamic advertising ecosystem. In terms of relative strengths and weaknesses, Uber's Open Platform has the advantage of being a more established and mature market, with a wide range of third-party developers creating and deploying ads. This has enabled Uber to build a robust and dynamic advertising ecosystem. Lyft's word of mouth marketing campaign, on the other hand, has the advantage of being more targeted and focused on the driver experience. This has been successful in attracting new drivers to the platform, but may not be as effective in attracting new consumers. Overall, both companies have different strengths and weaknesses, and their approaches reflect their unique market positions and customer bases. By understanding these differences, companies can develop targeted strategies to address their specific challenges and opportunities\"}\n"
     ]
    },
    {
     "ename": "IndexError",
     "evalue": "single positional indexer is out-of-bounds",
     "output_type": "error",
     "traceback": [
      "\u001b[0;31m---------------------------------------------------------------------------\u001b[0m",
      "\u001b[0;31mIndexError\u001b[0m                                Traceback (most recent call last)",
      "Cell \u001b[0;32mIn[55], line 1\u001b[0m\n\u001b[0;32m----> 1\u001b[0m responses \u001b[38;5;241m=\u001b[39m \u001b[43mextract_json_save_csv\u001b[49m\u001b[43m(\u001b[49m\u001b[38;5;124;43m\"\u001b[39;49m\u001b[38;5;124;43mresponses/gold_test_responses_v1.jsonl\u001b[39;49m\u001b[38;5;124;43m\"\u001b[39;49m\u001b[43m,\u001b[49m\u001b[43m \u001b[49m\u001b[43meval_df\u001b[49m\u001b[43m)\u001b[49m\n",
      "Cell \u001b[0;32mIn[54], line 9\u001b[0m, in \u001b[0;36mextract_json_save_csv\u001b[0;34m(path, eval_df)\u001b[0m\n\u001b[1;32m      4\u001b[0m     \u001b[38;5;28;01mfor\u001b[39;00m item \u001b[38;5;129;01min\u001b[39;00m reader:\n\u001b[1;32m      5\u001b[0m         \u001b[38;5;28mprint\u001b[39m(item)\n\u001b[1;32m      6\u001b[0m         answer \u001b[38;5;241m=\u001b[39m {\n\u001b[1;32m      7\u001b[0m             \u001b[38;5;124m\"\u001b[39m\u001b[38;5;124mQuestion\u001b[39m\u001b[38;5;124m\"\u001b[39m: item[\u001b[38;5;124m\"\u001b[39m\u001b[38;5;124mquestion\u001b[39m\u001b[38;5;124m\"\u001b[39m],\n\u001b[1;32m      8\u001b[0m             \u001b[38;5;124m\"\u001b[39m\u001b[38;5;124mModel Response\u001b[39m\u001b[38;5;124m\"\u001b[39m: item[\u001b[38;5;124m\"\u001b[39m\u001b[38;5;124manswer\u001b[39m\u001b[38;5;124m\"\u001b[39m],\n\u001b[0;32m----> 9\u001b[0m             \u001b[38;5;124m\"\u001b[39m\u001b[38;5;124mGold Response\u001b[39m\u001b[38;5;124m\"\u001b[39m: \u001b[43meval_df\u001b[49m\u001b[43m[\u001b[49m\u001b[43meval_df\u001b[49m\u001b[43m[\u001b[49m\u001b[38;5;124;43m\"\u001b[39;49m\u001b[38;5;124;43mquestion\u001b[39;49m\u001b[38;5;124;43m\"\u001b[39;49m\u001b[43m]\u001b[49m\u001b[38;5;241;43m.\u001b[39;49m\u001b[43mstr\u001b[49m\u001b[38;5;241;43m.\u001b[39;49m\u001b[43mcontains\u001b[49m\u001b[43m(\u001b[49m\u001b[43mitem\u001b[49m\u001b[43m[\u001b[49m\u001b[38;5;124;43m\"\u001b[39;49m\u001b[38;5;124;43mquestion\u001b[39;49m\u001b[38;5;124;43m\"\u001b[39;49m\u001b[43m]\u001b[49m\u001b[43m)\u001b[49m\u001b[43m]\u001b[49m\u001b[43m[\u001b[49m\u001b[38;5;124;43m\"\u001b[39;49m\u001b[38;5;124;43manswer\u001b[39;49m\u001b[38;5;124;43m\"\u001b[39;49m\u001b[43m]\u001b[49m\u001b[38;5;241;43m.\u001b[39;49m\u001b[43miloc\u001b[49m\u001b[43m[\u001b[49m\u001b[38;5;241;43m0\u001b[39;49m\u001b[43m]\u001b[49m\n\u001b[1;32m     10\u001b[0m         }\n\u001b[1;32m     11\u001b[0m         items\u001b[38;5;241m.\u001b[39mappend(answer)\n\u001b[1;32m     12\u001b[0m \u001b[38;5;28;01mreturn\u001b[39;00m items\n",
      "File \u001b[0;32m~/Library/Caches/pypoetry/virtualenvs/apple-legal-contracts-vyiYZUr_-py3.12/lib/python3.12/site-packages/pandas/core/indexing.py:1191\u001b[0m, in \u001b[0;36m_LocationIndexer.__getitem__\u001b[0;34m(self, key)\u001b[0m\n\u001b[1;32m   1189\u001b[0m maybe_callable \u001b[38;5;241m=\u001b[39m com\u001b[38;5;241m.\u001b[39mapply_if_callable(key, \u001b[38;5;28mself\u001b[39m\u001b[38;5;241m.\u001b[39mobj)\n\u001b[1;32m   1190\u001b[0m maybe_callable \u001b[38;5;241m=\u001b[39m \u001b[38;5;28mself\u001b[39m\u001b[38;5;241m.\u001b[39m_check_deprecated_callable_usage(key, maybe_callable)\n\u001b[0;32m-> 1191\u001b[0m \u001b[38;5;28;01mreturn\u001b[39;00m \u001b[38;5;28;43mself\u001b[39;49m\u001b[38;5;241;43m.\u001b[39;49m\u001b[43m_getitem_axis\u001b[49m\u001b[43m(\u001b[49m\u001b[43mmaybe_callable\u001b[49m\u001b[43m,\u001b[49m\u001b[43m \u001b[49m\u001b[43maxis\u001b[49m\u001b[38;5;241;43m=\u001b[39;49m\u001b[43maxis\u001b[49m\u001b[43m)\u001b[49m\n",
      "File \u001b[0;32m~/Library/Caches/pypoetry/virtualenvs/apple-legal-contracts-vyiYZUr_-py3.12/lib/python3.12/site-packages/pandas/core/indexing.py:1752\u001b[0m, in \u001b[0;36m_iLocIndexer._getitem_axis\u001b[0;34m(self, key, axis)\u001b[0m\n\u001b[1;32m   1749\u001b[0m     \u001b[38;5;28;01mraise\u001b[39;00m \u001b[38;5;167;01mTypeError\u001b[39;00m(\u001b[38;5;124m\"\u001b[39m\u001b[38;5;124mCannot index by location index with a non-integer key\u001b[39m\u001b[38;5;124m\"\u001b[39m)\n\u001b[1;32m   1751\u001b[0m \u001b[38;5;66;03m# validate the location\u001b[39;00m\n\u001b[0;32m-> 1752\u001b[0m \u001b[38;5;28;43mself\u001b[39;49m\u001b[38;5;241;43m.\u001b[39;49m\u001b[43m_validate_integer\u001b[49m\u001b[43m(\u001b[49m\u001b[43mkey\u001b[49m\u001b[43m,\u001b[49m\u001b[43m \u001b[49m\u001b[43maxis\u001b[49m\u001b[43m)\u001b[49m\n\u001b[1;32m   1754\u001b[0m \u001b[38;5;28;01mreturn\u001b[39;00m \u001b[38;5;28mself\u001b[39m\u001b[38;5;241m.\u001b[39mobj\u001b[38;5;241m.\u001b[39m_ixs(key, axis\u001b[38;5;241m=\u001b[39maxis)\n",
      "File \u001b[0;32m~/Library/Caches/pypoetry/virtualenvs/apple-legal-contracts-vyiYZUr_-py3.12/lib/python3.12/site-packages/pandas/core/indexing.py:1685\u001b[0m, in \u001b[0;36m_iLocIndexer._validate_integer\u001b[0;34m(self, key, axis)\u001b[0m\n\u001b[1;32m   1683\u001b[0m len_axis \u001b[38;5;241m=\u001b[39m \u001b[38;5;28mlen\u001b[39m(\u001b[38;5;28mself\u001b[39m\u001b[38;5;241m.\u001b[39mobj\u001b[38;5;241m.\u001b[39m_get_axis(axis))\n\u001b[1;32m   1684\u001b[0m \u001b[38;5;28;01mif\u001b[39;00m key \u001b[38;5;241m>\u001b[39m\u001b[38;5;241m=\u001b[39m len_axis \u001b[38;5;129;01mor\u001b[39;00m key \u001b[38;5;241m<\u001b[39m \u001b[38;5;241m-\u001b[39mlen_axis:\n\u001b[0;32m-> 1685\u001b[0m     \u001b[38;5;28;01mraise\u001b[39;00m \u001b[38;5;167;01mIndexError\u001b[39;00m(\u001b[38;5;124m\"\u001b[39m\u001b[38;5;124msingle positional indexer is out-of-bounds\u001b[39m\u001b[38;5;124m\"\u001b[39m)\n",
      "\u001b[0;31mIndexError\u001b[0m: single positional indexer is out-of-bounds"
     ]
    }
   ],
   "source": [
    "responses = extract_json_save_csv(\"responses/gold_test_responses_v1.jsonl\", eval_df)"
   ]
  },
  {
   "cell_type": "code",
   "execution_count": 46,
   "id": "79cf05ba-dd42-4efd-8b2d-27c05e95a125",
   "metadata": {},
   "outputs": [
    {
     "data": {
      "text/plain": [
       "{'Question': 'What countries does Uber operate in?',\n",
       " 'Model Response': \"Our technology is available in approximately 72 countries around the world, principally in the United States ('U.S.') and Canada, and in Europe, the Middle East, Africa, and Asia (excluding China and Southeast Asia).\",\n",
       " 'Gold Response': ''}"
      ]
     },
     "execution_count": 46,
     "metadata": {},
     "output_type": "execute_result"
    }
   ],
   "source": [
    "responses[0]"
   ]
  },
  {
   "cell_type": "code",
   "execution_count": 51,
   "id": "f964e8cc-605c-410f-9e91-c8070b65b21a",
   "metadata": {},
   "outputs": [
    {
     "data": {
      "text/plain": [
       "'Our technology is available in approximately 72 countries around the world, principally in the United States (“U.S.”) and Canada, Latin America, Europe, the Middle East, Africa, and Asia (excluding China and Southeast Asia).'"
      ]
     },
     "execution_count": 51,
     "metadata": {},
     "output_type": "execute_result"
    }
   ],
   "source": [
    "eval_df[eval_df[\"question\"].str.contains(responses[0][\"Question\"])][\"answer\"].iloc[0]"
   ]
  },
  {
   "cell_type": "markdown",
   "id": "8ed0cbd0-f0e8-4f1f-84d7-0664201d0e53",
   "metadata": {},
   "source": [
    "# Tuning Experiments"
   ]
  },
  {
   "cell_type": "code",
   "execution_count": 33,
   "id": "47a919f1-7167-4eff-84a3-a2ba7f39769c",
   "metadata": {},
   "outputs": [
    {
     "data": {
      "application/vnd.jupyter.widget-view+json": {
       "model_id": "2cab0b6914ed4a269b6f790f8637d21f",
       "version_major": 2,
       "version_minor": 0
      },
      "text/plain": [
       "Saving answers: 0 answers [00:00, ? answers/s]"
      ]
     },
     "metadata": {},
     "output_type": "display_data"
    }
   ],
   "source": [
    "generation_pipeline = GenPipeline(model_name = \"d9341ae5cfc60d5ed9e173954387404b6419ee201aa2baacb79fe4a6cef532a1\")\n",
    "answers = generation_pipeline.call(simple_prompt_generator(eval_df))\n",
    "await save_answers(answers, path=\"gold_test_responses_v1.jsonl\", print_outputs=False)"
   ]
  },
  {
   "cell_type": "code",
   "execution_count": null,
   "id": "460ed9fc-634d-4209-9946-424126e6201a",
   "metadata": {},
   "outputs": [],
   "source": []
  }
 ],
 "metadata": {
  "kernelspec": {
   "display_name": "Python 3 (ipykernel)",
   "language": "python",
   "name": "python3"
  },
  "language_info": {
   "codemirror_mode": {
    "name": "ipython",
    "version": 3
   },
   "file_extension": ".py",
   "mimetype": "text/x-python",
   "name": "python",
   "nbconvert_exporter": "python",
   "pygments_lexer": "ipython3",
   "version": "3.12.6"
  }
 },
 "nbformat": 4,
 "nbformat_minor": 5
}
