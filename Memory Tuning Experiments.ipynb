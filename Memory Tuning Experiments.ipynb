{
 "cells": [
  {
   "cell_type": "markdown",
   "id": "4ed90c8e-6a6b-4ecb-8381-583fd709116e",
   "metadata": {},
   "source": [
    "# Imports"
   ]
  },
  {
   "cell_type": "code",
   "execution_count": 1,
   "id": "3b43faf7-f71c-4d2b-a465-8548e7072cd7",
   "metadata": {},
   "outputs": [],
   "source": [
    "import os\n",
    "import jsonlines\n",
    "from tqdm.notebook import tqdm\n",
    "\n",
    "import lamini\n",
    "import pandas as pd\n",
    "\n",
    "from contract_poc.utils import read_pdf, build_prompts_from_dataframe\n",
    "from contract_poc.qa_pipeline import QuestionAnswerPipeline, load_qa_prompts, save_answers\n",
    "from contract_poc.answer_pipeline import AnswerPipeline\n",
    "from contract_poc.gen_pipeline import GenPipeline, simple_prompt_generator, save_answers_to_csv"
   ]
  },
  {
   "cell_type": "markdown",
   "id": "272b84e0-debe-40c3-8148-a25594020191",
   "metadata": {},
   "source": [
    "# Data Wrangling"
   ]
  },
  {
   "cell_type": "code",
   "execution_count": 2,
   "id": "46e3e604-94ff-40d3-a56b-0b0b4e8f4321",
   "metadata": {},
   "outputs": [
    {
     "name": "stdout",
     "output_type": "stream",
     "text": [
      "Uber number of pages: 307\n"
     ]
    }
   ],
   "source": [
    "uber_text = read_pdf(\"data/uber_2021.pdf\")\n",
    "print(f\"Uber number of pages: {len(uber_text)}\")"
   ]
  },
  {
   "cell_type": "code",
   "execution_count": 3,
   "id": "152c9b5c-1d91-4b2c-9e38-cca23e670459",
   "metadata": {},
   "outputs": [
    {
     "name": "stdout",
     "output_type": "stream",
     "text": [
      "Lyft number of pages: 238\n"
     ]
    }
   ],
   "source": [
    "lyft_text = read_pdf(\"data/lyft_2021.pdf\")\n",
    "print(f\"Lyft number of pages: {len(lyft_text)}\")"
   ]
  },
  {
   "cell_type": "code",
   "execution_count": 4,
   "id": "6dc45431-d00c-4bb9-9242-18b417d385fc",
   "metadata": {},
   "outputs": [],
   "source": [
    "eval_data = []\n",
    "with jsonlines.Reader(open(os.path.join(\"eval_sets\",\"gold-test-set.jsonlines\"), \"rb\")) as reader:\n",
    "    for line in reader:\n",
    "        eval_data.append(line)"
   ]
  },
  {
   "cell_type": "code",
   "execution_count": 5,
   "id": "80e9e268-15a8-46ed-8552-095edb3b0a42",
   "metadata": {},
   "outputs": [
    {
     "data": {
      "text/plain": [
       "[{'question': 'What countries does Uber operate in?',\n",
       "  'answer': 'Our technology is available in approximately 72 countries around the world, principally in the United States (“U.S.”) and Canada, Latin America, Europe, the Middle East, Africa, and Asia (excluding China and Southeast Asia).'},\n",
       " {'question': 'What countries does Lyft operate in?',\n",
       "  'answer': 'United states and select cities in Canada'},\n",
       " {'question': 'Do Uber and Lyft operate in Mexico?',\n",
       "  'answer': 'Uber operates in Mexico including ride sharing and delivery services. Lyft only operates in the United States and select cities in Canada.'},\n",
       " {'question': \"Think step by step. First, consider the largest spanish speaking north american country that lyft operates in. Second describe any recent regulation that impacts Lyft's business in that market.\",\n",
       "  'answer': 'Lyft only operates in canada and the united states.'}]"
      ]
     },
     "execution_count": 5,
     "metadata": {},
     "output_type": "execute_result"
    }
   ],
   "source": [
    "eval_data[:4]"
   ]
  },
  {
   "cell_type": "code",
   "execution_count": 6,
   "id": "29f1ddf7-14f1-4386-9397-5ce62c1eb839",
   "metadata": {},
   "outputs": [
    {
     "data": {
      "text/html": [
       "<div>\n",
       "<style scoped>\n",
       "    .dataframe tbody tr th:only-of-type {\n",
       "        vertical-align: middle;\n",
       "    }\n",
       "\n",
       "    .dataframe tbody tr th {\n",
       "        vertical-align: top;\n",
       "    }\n",
       "\n",
       "    .dataframe thead th {\n",
       "        text-align: right;\n",
       "    }\n",
       "</style>\n",
       "<table border=\"1\" class=\"dataframe\">\n",
       "  <thead>\n",
       "    <tr style=\"text-align: right;\">\n",
       "      <th></th>\n",
       "      <th>question</th>\n",
       "      <th>answer</th>\n",
       "    </tr>\n",
       "  </thead>\n",
       "  <tbody>\n",
       "    <tr>\n",
       "      <th>0</th>\n",
       "      <td>What countries does Uber operate in?</td>\n",
       "      <td>Our technology is available in approximately 7...</td>\n",
       "    </tr>\n",
       "    <tr>\n",
       "      <th>1</th>\n",
       "      <td>What countries does Lyft operate in?</td>\n",
       "      <td>United states and select cities in Canada</td>\n",
       "    </tr>\n",
       "    <tr>\n",
       "      <th>2</th>\n",
       "      <td>Do Uber and Lyft operate in Mexico?</td>\n",
       "      <td>Uber operates in Mexico including ride sharing...</td>\n",
       "    </tr>\n",
       "    <tr>\n",
       "      <th>3</th>\n",
       "      <td>Think step by step. First, consider the larges...</td>\n",
       "      <td>Lyft only operates in canada and the united st...</td>\n",
       "    </tr>\n",
       "    <tr>\n",
       "      <th>4</th>\n",
       "      <td>Think step by step. First, consider the larges...</td>\n",
       "      <td>Uber operates in mexico. Since April 2019, Mex...</td>\n",
       "    </tr>\n",
       "  </tbody>\n",
       "</table>\n",
       "</div>"
      ],
      "text/plain": [
       "                                            question  \\\n",
       "0               What countries does Uber operate in?   \n",
       "1               What countries does Lyft operate in?   \n",
       "2                Do Uber and Lyft operate in Mexico?   \n",
       "3  Think step by step. First, consider the larges...   \n",
       "4  Think step by step. First, consider the larges...   \n",
       "\n",
       "                                              answer  \n",
       "0  Our technology is available in approximately 7...  \n",
       "1          United states and select cities in Canada  \n",
       "2  Uber operates in Mexico including ride sharing...  \n",
       "3  Lyft only operates in canada and the united st...  \n",
       "4  Uber operates in mexico. Since April 2019, Mex...  "
      ]
     },
     "execution_count": 6,
     "metadata": {},
     "output_type": "execute_result"
    }
   ],
   "source": [
    "eval_df = pd.DataFrame(eval_data)\n",
    "eval_df.head()"
   ]
  },
  {
   "cell_type": "markdown",
   "id": "750e5c52-ab1e-45ba-a968-61cb6c7956dd",
   "metadata": {},
   "source": [
    "# Eval Criteria\n",
    "\n",
    "* Accurate information - Facts can be sourced to a ground truth\n",
    "* Correct context - Extrapolation of the model is still in the context of the question\n",
    "* Just enough information - No run on thoughts, just answer the question\n",
    "\n",
    "Accurate\n",
    "* Response is factually accurate, doesn't extend the answer beyond the scope of the question\n",
    "\n",
    "Mixed\n",
    "* Response contains the correct information, but either the context extended beyond the question or additional facts are added that have nothing to do with the question\n",
    "\n",
    "Incorrect\n",
    "* Any fact is not accurate, response may not include corret context\n",
    "\n",
    "Successful Failure\n",
    "* Model recognizes that it does not know the answer"
   ]
  },
  {
   "cell_type": "markdown",
   "id": "d13bed46-86fd-4ebb-a688-18442d8aa545",
   "metadata": {},
   "source": [
    "# Base Llama Performance"
   ]
  },
  {
   "cell_type": "code",
   "execution_count": 16,
   "id": "adf6b8dc-8de0-4255-b91c-2b5df5eff4a5",
   "metadata": {},
   "outputs": [
    {
     "data": {
      "application/vnd.jupyter.widget-view+json": {
       "model_id": "979122866b1d414eae46d163c535348f",
       "version_major": 2,
       "version_minor": 0
      },
      "text/plain": [
       "Saving answers: 0 answers [00:00, ? answers/s]"
      ]
     },
     "metadata": {},
     "output_type": "display_data"
    }
   ],
   "source": [
    "generation_pipeline = GenPipeline(model_name = \"meta-llama/Meta-Llama-3.1-8B-Instruct\")\n",
    "answers = generation_pipeline.call(simple_prompt_generator(eval_df))\n",
    "llama_3_1_responses = await save_answers_to_csv(answers, path=\"responses/base_llama_3_1_response.csv\", print_outputs=False)"
   ]
  },
  {
   "cell_type": "markdown",
   "id": "1de6a06c-110d-4566-88c5-58a756e2c414",
   "metadata": {},
   "source": [
    "Correct: 3 (0.15)\n",
    "\n",
    "Mixed: 7 (0.35)\n",
    "\n",
    "Incorrect: 9 (0.45)\n",
    "\n",
    "Successfull Failure: 1 (0.05)"
   ]
  },
  {
   "cell_type": "code",
   "execution_count": 17,
   "id": "c2b9d45b-52e1-4014-85ce-5a921ff2b8ee",
   "metadata": {},
   "outputs": [
    {
     "data": {
      "application/vnd.jupyter.widget-view+json": {
       "model_id": "163f779ad73447de8009c75352b7654d",
       "version_major": 2,
       "version_minor": 0
      },
      "text/plain": [
       "Saving answers: 0 answers [00:00, ? answers/s]"
      ]
     },
     "metadata": {},
     "output_type": "display_data"
    }
   ],
   "source": [
    "generation_pipeline = GenPipeline(model_name = \"meta-llama/Llama-3.2-3B-Instruct\")\n",
    "answers = generation_pipeline.call(simple_prompt_generator(eval_df))\n",
    "llama_3_2_responses = await save_answers_to_csv(answers, path=\"responses/base_llama_3_2_response.csv\", print_outputs=False)"
   ]
  },
  {
   "cell_type": "markdown",
   "id": "b57d5d9a-a17c-4297-9829-3e0186920c42",
   "metadata": {},
   "source": [
    "Correct: 2 (0.1)\n",
    "\n",
    "Mixed: 4 (0.2)\n",
    "\n",
    "Incorrect: 13 (0.65)\n",
    "\n",
    "Successfull Failure: 1 (0.05)"
   ]
  },
  {
   "cell_type": "markdown",
   "id": "ff845ed3-c720-4e96-aa8d-878a012ce821",
   "metadata": {},
   "source": [
    "# RAG Performance"
   ]
  },
  {
   "cell_type": "code",
   "execution_count": null,
   "id": "97284a7b-27ff-40bb-b705-2f4fa86e7d94",
   "metadata": {},
   "outputs": [],
   "source": []
  },
  {
   "cell_type": "markdown",
   "id": "8ed0cbd0-f0e8-4f1f-84d7-0664201d0e53",
   "metadata": {},
   "source": [
    "# Tuning Experiments"
   ]
  },
  {
   "cell_type": "markdown",
   "id": "2c4588be-94e3-4511-9ee2-aaa048360576",
   "metadata": {},
   "source": [
    "## Automatic QA Experiments"
   ]
  },
  {
   "cell_type": "markdown",
   "id": "8e31f38c-9977-4897-bda8-3bdabc7af3e9",
   "metadata": {},
   "source": [
    "### V1\n",
    "\n",
    "Job ID: 13265\n",
    "\n",
    "Model ID: d9341ae5cfc60d5ed9e173954387404b6419ee201aa2baacb79fe4a6cef532a1\n",
    "\n",
    "This is from an initial overfit run in the Contracts Data Discovery notebook, this was to overfit to a set of automatically extracted QA pairs"
   ]
  },
  {
   "cell_type": "code",
   "execution_count": 6,
   "id": "47a919f1-7167-4eff-84a3-a2ba7f39769c",
   "metadata": {},
   "outputs": [
    {
     "data": {
      "application/vnd.jupyter.widget-view+json": {
       "model_id": "b19d4308b08747c08e295c8c194e9d87",
       "version_major": 2,
       "version_minor": 0
      },
      "text/plain": [
       "Saving answers: 0 answers [00:00, ? answers/s]"
      ]
     },
     "metadata": {},
     "output_type": "display_data"
    }
   ],
   "source": [
    "generation_pipeline = GenPipeline(model_name = \"d9341ae5cfc60d5ed9e173954387404b6419ee201aa2baacb79fe4a6cef532a1\")\n",
    "answers = generation_pipeline.call(simple_prompt_generator(eval_df))\n",
    "model_responses = await save_answers_to_csv(answers, path=\"responses/gold_test_responses_13265.csv\", print_outputs=False)"
   ]
  },
  {
   "cell_type": "markdown",
   "id": "b91f04bc-4826-4a09-9793-77d29ce3a3be",
   "metadata": {},
   "source": [
    "### Eval\n",
    "\n",
    "Correct: 5 (0.25)\n",
    "\n",
    "Mixed: 7 (0.35)\n",
    "\n",
    "Incorrect: 6 (0.3)\n",
    "\n",
    "Successfull Failure: 2 (0.1)"
   ]
  },
  {
   "cell_type": "markdown",
   "id": "8f1e0bfc-1fa8-48fd-bcaf-a5213bff1f62",
   "metadata": {},
   "source": [
    "### V2"
   ]
  },
  {
   "cell_type": "markdown",
   "id": "13743aec-6efe-41ab-b546-17ed2ea6159f",
   "metadata": {},
   "source": [
    "#### Generate QA Pairs"
   ]
  },
  {
   "cell_type": "code",
   "execution_count": 7,
   "id": "c254c403-0d9c-4db5-8920-a45354de8a9f",
   "metadata": {},
   "outputs": [],
   "source": [
    "qa_pipeline = QuestionAnswerPipeline(\n",
    "    question_system_prompt = \"Ask three separate questions around a fact, table, or number within this text: \\n\"\n",
    ")"
   ]
  },
  {
   "cell_type": "markdown",
   "id": "e22b16ad-8a9c-41f8-bcdf-92598cbba523",
   "metadata": {},
   "source": [
    "##### Uber"
   ]
  },
  {
   "cell_type": "code",
   "execution_count": 8,
   "id": "05ce0355-c5a5-479d-ab58-7b4d57d484a5",
   "metadata": {},
   "outputs": [
    {
     "data": {
      "application/vnd.jupyter.widget-view+json": {
       "model_id": "92637cde7bc0450a9655e83d814a0831",
       "version_major": 2,
       "version_minor": 0
      },
      "text/plain": [
       "Saving answers: 0 answers [00:00, ? answers/s]"
      ]
     },
     "metadata": {},
     "output_type": "display_data"
    }
   ],
   "source": [
    "answers = qa_pipeline.call(load_qa_prompts([uber_text[page] for page in uber_text]))\n",
    "await save_answers(answers, path=\"uber_generated_qa.jsonl\", print_outputs=False)"
   ]
  },
  {
   "cell_type": "markdown",
   "id": "cfcbac24-80cc-4c21-9dde-4de8369a0b06",
   "metadata": {},
   "source": [
    "##### Lyft"
   ]
  },
  {
   "cell_type": "code",
   "execution_count": 9,
   "id": "b9ef8cc0-02b2-4c37-8daf-1965d7fe3c6a",
   "metadata": {},
   "outputs": [
    {
     "data": {
      "application/vnd.jupyter.widget-view+json": {
       "model_id": "3dfc0d524cbc49e7af4bdf81d9d3892d",
       "version_major": 2,
       "version_minor": 0
      },
      "text/plain": [
       "Saving answers: 0 answers [00:00, ? answers/s]"
      ]
     },
     "metadata": {},
     "output_type": "display_data"
    }
   ],
   "source": [
    "answers = qa_pipeline.call(load_qa_prompts([lyft_text[page] for page in lyft_text]))\n",
    "await save_answers(answers, path=\"lyft_generated_qa.jsonl\", print_outputs=False)"
   ]
  },
  {
   "cell_type": "code",
   "execution_count": 19,
   "id": "ff006067-d26f-4a94-a4cc-92822f52cda6",
   "metadata": {},
   "outputs": [],
   "source": [
    "tune_data = []\n",
    "with jsonlines.Reader(open(\"uber_generated_qa.jsonl\", \"rb\")) as reader:\n",
    "    for line in reader:\n",
    "        line[\"input\"] = line[\"question\"]\n",
    "        line[\"output\"] = line[\"answer\"]\n",
    "        tune_data.append(line)\n",
    "with jsonlines.Reader(open(\"lyft_generated_qa.jsonl\", \"rb\")) as reader:\n",
    "    for line in reader:\n",
    "        line[\"input\"] = line[\"question\"]\n",
    "        line[\"output\"] = line[\"answer\"]\n",
    "        tune_data.append(line)\n",
    "tune_df = pd.DataFrame(tune_data)"
   ]
  },
  {
   "cell_type": "code",
   "execution_count": 20,
   "id": "ded3c02f-c28c-487c-8fe7-f11f2ac934f2",
   "metadata": {},
   "outputs": [
    {
     "data": {
      "text/html": [
       "<div>\n",
       "<style scoped>\n",
       "    .dataframe tbody tr th:only-of-type {\n",
       "        vertical-align: middle;\n",
       "    }\n",
       "\n",
       "    .dataframe tbody tr th {\n",
       "        vertical-align: top;\n",
       "    }\n",
       "\n",
       "    .dataframe thead th {\n",
       "        text-align: right;\n",
       "    }\n",
       "</style>\n",
       "<table border=\"1\" class=\"dataframe\">\n",
       "  <thead>\n",
       "    <tr style=\"text-align: right;\">\n",
       "      <th></th>\n",
       "      <th>prompt</th>\n",
       "      <th>question</th>\n",
       "      <th>answer</th>\n",
       "      <th>input</th>\n",
       "      <th>output</th>\n",
       "    </tr>\n",
       "  </thead>\n",
       "  <tbody>\n",
       "    <tr>\n",
       "      <th>0</th>\n",
       "      <td>&lt;|begin_of_text|&gt;&lt;|start_header_id|&gt;user&lt;|end_...</td>\n",
       "      <td>What is the name of the company that is filing...</td>\n",
       "      <td>UBER TECHNOLOGIES, INC</td>\n",
       "      <td>What is the name of the company that is filing...</td>\n",
       "      <td>UBER TECHNOLOGIES, INC</td>\n",
       "    </tr>\n",
       "    <tr>\n",
       "      <th>1</th>\n",
       "      <td>&lt;|begin_of_text|&gt;&lt;|start_header_id|&gt;user&lt;|end_...</td>\n",
       "      <td>What is the state of incorporation of the company</td>\n",
       "      <td>Delaware</td>\n",
       "      <td>What is the state of incorporation of the company</td>\n",
       "      <td>Delaware</td>\n",
       "    </tr>\n",
       "    <tr>\n",
       "      <th>2</th>\n",
       "      <td>&lt;|begin_of_text|&gt;&lt;|start_header_id|&gt;user&lt;|end_...</td>\n",
       "      <td>What is the name of the exchange on which the ...</td>\n",
       "      <td>New York Stock Exchange</td>\n",
       "      <td>What is the name of the exchange on which the ...</td>\n",
       "      <td>New York Stock Exchange</td>\n",
       "    </tr>\n",
       "    <tr>\n",
       "      <th>3</th>\n",
       "      <td>&lt;|begin_of_text|&gt;&lt;|start_header_id|&gt;user&lt;|end_...</td>\n",
       "      <td>What is the number of shares of the registrant...</td>\n",
       "      <td>1,954,464,088</td>\n",
       "      <td>What is the number of shares of the registrant...</td>\n",
       "      <td>1,954,464,088</td>\n",
       "    </tr>\n",
       "    <tr>\n",
       "      <th>4</th>\n",
       "      <td>&lt;|begin_of_text|&gt;&lt;|start_header_id|&gt;user&lt;|end_...</td>\n",
       "      <td>What is the aggregate market value of the voti...</td>\n",
       "      <td>approximately $90.5 billion</td>\n",
       "      <td>What is the aggregate market value of the voti...</td>\n",
       "      <td>approximately $90.5 billion</td>\n",
       "    </tr>\n",
       "  </tbody>\n",
       "</table>\n",
       "</div>"
      ],
      "text/plain": [
       "                                              prompt  \\\n",
       "0  <|begin_of_text|><|start_header_id|>user<|end_...   \n",
       "1  <|begin_of_text|><|start_header_id|>user<|end_...   \n",
       "2  <|begin_of_text|><|start_header_id|>user<|end_...   \n",
       "3  <|begin_of_text|><|start_header_id|>user<|end_...   \n",
       "4  <|begin_of_text|><|start_header_id|>user<|end_...   \n",
       "\n",
       "                                            question  \\\n",
       "0  What is the name of the company that is filing...   \n",
       "1  What is the state of incorporation of the company   \n",
       "2  What is the name of the exchange on which the ...   \n",
       "3  What is the number of shares of the registrant...   \n",
       "4  What is the aggregate market value of the voti...   \n",
       "\n",
       "                        answer  \\\n",
       "0       UBER TECHNOLOGIES, INC   \n",
       "1                     Delaware   \n",
       "2      New York Stock Exchange   \n",
       "3                1,954,464,088   \n",
       "4  approximately $90.5 billion   \n",
       "\n",
       "                                               input  \\\n",
       "0  What is the name of the company that is filing...   \n",
       "1  What is the state of incorporation of the company   \n",
       "2  What is the name of the exchange on which the ...   \n",
       "3  What is the number of shares of the registrant...   \n",
       "4  What is the aggregate market value of the voti...   \n",
       "\n",
       "                        output  \n",
       "0       UBER TECHNOLOGIES, INC  \n",
       "1                     Delaware  \n",
       "2      New York Stock Exchange  \n",
       "3                1,954,464,088  \n",
       "4  approximately $90.5 billion  "
      ]
     },
     "execution_count": 20,
     "metadata": {},
     "output_type": "execute_result"
    }
   ],
   "source": [
    "tune_df.head()"
   ]
  },
  {
   "cell_type": "code",
   "execution_count": 21,
   "id": "d0a07955-75be-4ab8-8a95-2b58e67a85c7",
   "metadata": {},
   "outputs": [
    {
     "name": "stdout",
     "output_type": "stream",
     "text": [
      "Data pairs uploaded to local.\n",
      "\n",
      "Your dataset id is: f00cbe4f6103fc99b731b351f7d963ac779909ca5f13cc7063c113e55d665f52 . Consider using this in the future to train using the same data. \n",
      "Eg: llm.train(data_or_dataset_id='f00cbe4f6103fc99b731b351f7d963ac779909ca5f13cc7063c113e55d665f52')\n",
      "Tuning job submitted! Check status of job 13695 here: https://api.lamini.ai/train/13695\n"
     ]
    },
    {
     "data": {
      "text/plain": [
       "{'job_id': 13695,\n",
       " 'status': 'CREATED',\n",
       " 'dataset_id': 'f00cbe4f6103fc99b731b351f7d963ac779909ca5f13cc7063c113e55d665f52'}"
      ]
     },
     "execution_count": 21,
     "metadata": {},
     "output_type": "execute_result"
    }
   ],
   "source": [
    "base_llm = lamini.Lamini(model_name=\"meta-llama/Meta-Llama-3.1-8B-Instruct\")\n",
    "base_llm.tune(tune_data)"
   ]
  },
  {
   "cell_type": "code",
   "execution_count": 23,
   "id": "ee334216-14c8-4180-a659-db9d7700011d",
   "metadata": {},
   "outputs": [
    {
     "data": {
      "application/vnd.jupyter.widget-view+json": {
       "model_id": "1a3714f8d7f64370b91b1ba02e486081",
       "version_major": 2,
       "version_minor": 0
      },
      "text/plain": [
       "Saving answers: 0 answers [00:00, ? answers/s]"
      ]
     },
     "metadata": {},
     "output_type": "display_data"
    }
   ],
   "source": [
    "generation_pipeline = GenPipeline(model_name = \"6bbfc54db98cb502a629aa5c3ed0aba4372fd2ad795ea694042ba6105ba892b4\")\n",
    "answers = generation_pipeline.call(simple_prompt_generator(eval_df))\n",
    "model_responses = await save_answers_to_csv(answers, path=\"responses/gold_test_responses_13695.csv\", print_outputs=False)"
   ]
  },
  {
   "cell_type": "markdown",
   "id": "5003f92e-bab7-4376-87b9-523b280968e5",
   "metadata": {},
   "source": [
    "##### Eval\n",
    "\n",
    "Job ID: 13695\n",
    "\n",
    "Model ID: 6bbfc54db98cb502a629aa5c3ed0aba4372fd2ad795ea694042ba6105ba892b4\n",
    "\n",
    "Correct: 5 (0.25)\n",
    "\n",
    "Mixed: 4 (0.2)\n",
    "\n",
    "Incorrect: 8 (0.4)\n",
    "\n",
    "Successfull Failure: 3 (0.15)"
   ]
  },
  {
   "cell_type": "code",
   "execution_count": null,
   "id": "77a5c71e-78c1-4a10-a145-85ac3279071c",
   "metadata": {},
   "outputs": [],
   "source": []
  }
 ],
 "metadata": {
  "kernelspec": {
   "display_name": "Python 3 (ipykernel)",
   "language": "python",
   "name": "python3"
  },
  "language_info": {
   "codemirror_mode": {
    "name": "ipython",
    "version": 3
   },
   "file_extension": ".py",
   "mimetype": "text/x-python",
   "name": "python",
   "nbconvert_exporter": "python",
   "pygments_lexer": "ipython3",
   "version": "3.12.6"
  }
 },
 "nbformat": 4,
 "nbformat_minor": 5
}
